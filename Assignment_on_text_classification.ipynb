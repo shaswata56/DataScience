{
  "nbformat": 4,
  "nbformat_minor": 0,
  "metadata": {
    "colab": {
      "name": "Assignment.ipynb",
      "provenance": [],
      "collapsed_sections": []
    },
    "kernelspec": {
      "name": "python3",
      "display_name": "Python 3"
    },
    "accelerator": "GPU"
  },
  "cells": [
    {
      "cell_type": "markdown",
      "metadata": {
        "id": "G79eB9YCfEUL"
      },
      "source": [
        "# Assignment on Text Classification"
      ]
    },
    {
      "cell_type": "markdown",
      "metadata": {
        "id": "V4ewMnnGfPi2"
      },
      "source": [
        "### Importing Modules"
      ]
    },
    {
      "cell_type": "code",
      "metadata": {
        "id": "gS9DpWZqXlsn"
      },
      "source": [
        "import glob, os, gdown, time, re, joblib\n",
        "from sklearn.neighbors import KNeighborsClassifier\n",
        "from sklearn.naive_bayes import MultinomialNB\n",
        "from sklearn.ensemble import RandomForestClassifier\n",
        "from sklearn.tree import DecisionTreeClassifier\n",
        "from sklearn.neural_network import MLPClassifier\n",
        "from sklearn.feature_extraction.text import CountVectorizer\n",
        "from sklearn.feature_extraction.text import TfidfTransformer\n",
        "from sklearn.model_selection import train_test_split\n",
        "from sklearn.model_selection import ShuffleSplit\n",
        "from sklearn.model_selection import cross_val_score\n",
        "from sklearn.metrics import accuracy_score\n",
        "from sklearn.metrics import confusion_matrix\n",
        "from sklearn.pipeline import Pipeline\n",
        "from sklearn import metrics\n",
        "import pandas as pd\n",
        "import numpy as np"
      ],
      "execution_count": 1,
      "outputs": []
    },
    {
      "cell_type": "markdown",
      "metadata": {
        "id": "S2BZa7S4fcyH"
      },
      "source": [
        "### Loading Dataset"
      ]
    },
    {
      "cell_type": "code",
      "metadata": {
        "colab": {
          "base_uri": "https://localhost:8080/"
        },
        "id": "MyRYCDN8Z8kk",
        "outputId": "97a42ae2-d2fd-490c-9368-0f6c16c09e3c"
      },
      "source": [
        "!gdown --id 1DKicn9YfqsK6k5fJFOHgclZA6HkSW1Uq\n",
        "!unzip songData.zip"
      ],
      "execution_count": 2,
      "outputs": [
        {
          "output_type": "stream",
          "text": [
            "Downloading...\n",
            "From: https://drive.google.com/uc?id=1DKicn9YfqsK6k5fJFOHgclZA6HkSW1Uq\n",
            "To: /content/songData.zip\n",
            "\r  0% 0.00/1.16M [00:00<?, ?B/s]\r100% 1.16M/1.16M [00:00<00:00, 18.2MB/s]\n",
            "Archive:  songData.zip\n",
            "  inflating: songData/songType0.xlsx  \n",
            "  inflating: songData/songType1.xlsx  \n",
            "  inflating: songData/songType10.xlsx  \n",
            "  inflating: songData/songType11.xlsx  \n",
            "  inflating: songData/songType12.xlsx  \n",
            "  inflating: songData/songType13.xlsx  \n",
            "  inflating: songData/songType14.xlsx  \n",
            "  inflating: songData/songType15.xlsx  \n",
            "  inflating: songData/songType16.xlsx  \n",
            "  inflating: songData/songType17.xlsx  \n",
            "  inflating: songData/songType18.xlsx  \n",
            "  inflating: songData/songType19.xlsx  \n",
            "  inflating: songData/songType2.xlsx  \n",
            "  inflating: songData/songType20.xlsx  \n",
            "  inflating: songData/songType3.xlsx  \n",
            "  inflating: songData/songType4.xlsx  \n",
            "  inflating: songData/songType5.xlsx  \n",
            "  inflating: songData/songType6.xlsx  \n",
            "  inflating: songData/songType7.xlsx  \n",
            "  inflating: songData/songType8.xlsx  \n",
            "  inflating: songData/songType9.xlsx  \n"
          ],
          "name": "stdout"
        }
      ]
    },
    {
      "cell_type": "markdown",
      "metadata": {
        "id": "GjkFNl2lfkJ1"
      },
      "source": [
        "### Preprocessing Data for Training"
      ]
    },
    {
      "cell_type": "code",
      "metadata": {
        "colab": {
          "base_uri": "https://localhost:8080/"
        },
        "id": "3lJH0nODZvE8",
        "outputId": "3c8b81e1-160f-4f17-e02c-b839e4706465"
      },
      "source": [
        "excel_files = glob.glob(\"/content/songData/*.xlsx\")\n",
        "len(excel_files)"
      ],
      "execution_count": 3,
      "outputs": [
        {
          "output_type": "execute_result",
          "data": {
            "text/plain": [
              "21"
            ]
          },
          "metadata": {
            "tags": []
          },
          "execution_count": 3
        }
      ]
    },
    {
      "cell_type": "code",
      "metadata": {
        "id": "97aNNsRNbxc5"
      },
      "source": [
        "names = []\n",
        "count = []\n",
        "clusters = []\n",
        "data = []\n",
        "\n",
        "for each in excel_files:\n",
        "  temp = pd.read_excel(each)\n",
        "  count.append(len(temp))\n",
        "  names.append(each.split('/')[1][:-5])\n",
        "  clusters.append(temp['songType'])\n",
        "  data.append(temp)\n",
        "\n",
        "cluster_ids = clusters"
      ],
      "execution_count": 4,
      "outputs": []
    },
    {
      "cell_type": "code",
      "metadata": {
        "colab": {
          "base_uri": "https://localhost:8080/",
          "height": 419
        },
        "id": "nSdb3c-BeRxy",
        "outputId": "6b516f46-06b8-4292-9d97-e2af1d5a5701"
      },
      "source": [
        "data = pd.concat(data)\n",
        "data = data.sample(frac=1)\n",
        "\n",
        "data"
      ],
      "execution_count": 5,
      "outputs": [
        {
          "output_type": "execute_result",
          "data": {
            "text/html": [
              "<div>\n",
              "<style scoped>\n",
              "    .dataframe tbody tr th:only-of-type {\n",
              "        vertical-align: middle;\n",
              "    }\n",
              "\n",
              "    .dataframe tbody tr th {\n",
              "        vertical-align: top;\n",
              "    }\n",
              "\n",
              "    .dataframe thead th {\n",
              "        text-align: right;\n",
              "    }\n",
              "</style>\n",
              "<table border=\"1\" class=\"dataframe\">\n",
              "  <thead>\n",
              "    <tr style=\"text-align: right;\">\n",
              "      <th></th>\n",
              "      <th>Unnamed: 0</th>\n",
              "      <th>lyrics</th>\n",
              "      <th>songType</th>\n",
              "    </tr>\n",
              "  </thead>\n",
              "  <tbody>\n",
              "    <tr>\n",
              "      <th>296</th>\n",
              "      <td>1477</td>\n",
              "      <td>রাত্রি অনেক হল চোখে নেই কোন ঘুম অপরুপ জোছনায় অ...</td>\n",
              "      <td>13</td>\n",
              "    </tr>\n",
              "    <tr>\n",
              "      <th>4</th>\n",
              "      <td>271</td>\n",
              "      <td>আমার ইচ্ছে করে আকাশ বাড়ির ছাদ ভেঙে বৃষ্টি আসুক...</td>\n",
              "      <td>5</td>\n",
              "    </tr>\n",
              "    <tr>\n",
              "      <th>688</th>\n",
              "      <td>3177</td>\n",
              "      <td>প্রভু, খেলেছি অনেক খেলা এবে তোমার ক্রোড় চাহি।...</td>\n",
              "      <td>17</td>\n",
              "    </tr>\n",
              "    <tr>\n",
              "      <th>305</th>\n",
              "      <td>946</td>\n",
              "      <td>বেলা শেষে ক্লান্ত পাখি ফিরে যায় নীড়ে, হৃদয়ে বি...</td>\n",
              "      <td>1</td>\n",
              "    </tr>\n",
              "    <tr>\n",
              "      <th>773</th>\n",
              "      <td>3852</td>\n",
              "      <td>আমি কান পেতে রই। ও আমার আপন হৃদয়গহন দ্বারে বা...</td>\n",
              "      <td>17</td>\n",
              "    </tr>\n",
              "    <tr>\n",
              "      <th>...</th>\n",
              "      <td>...</td>\n",
              "      <td>...</td>\n",
              "      <td>...</td>\n",
              "    </tr>\n",
              "    <tr>\n",
              "      <th>629</th>\n",
              "      <td>2324</td>\n",
              "      <td>নিত্য তোমার যে ফুল ফোটে ফুলবনে তারি মধু কেন মন...</td>\n",
              "      <td>17</td>\n",
              "    </tr>\n",
              "    <tr>\n",
              "      <th>51</th>\n",
              "      <td>306</td>\n",
              "      <td>আমাদের দেশটা স্বপ্নপুরী সাথী মোদের ফুলপরী ফুলপ...</td>\n",
              "      <td>1</td>\n",
              "    </tr>\n",
              "    <tr>\n",
              "      <th>357</th>\n",
              "      <td>1797</td>\n",
              "      <td>তোমার পূজার ছলে তোমায় ভুলেই থাকি। বুঝতে নারি ক...</td>\n",
              "      <td>17</td>\n",
              "    </tr>\n",
              "    <tr>\n",
              "      <th>15</th>\n",
              "      <td>3645</td>\n",
              "      <td>দুই ভুবনের দুই বাসিন্দা বন্ধু চিরকাল রেললাইন ব...</td>\n",
              "      <td>8</td>\n",
              "    </tr>\n",
              "    <tr>\n",
              "      <th>77</th>\n",
              "      <td>160</td>\n",
              "      <td>আমায় দুষ্ট বলো তুমি আরও মিষ্টি করে, ওগো সোনার ...</td>\n",
              "      <td>3</td>\n",
              "    </tr>\n",
              "  </tbody>\n",
              "</table>\n",
              "<p>4105 rows × 3 columns</p>\n",
              "</div>"
            ],
            "text/plain": [
              "     Unnamed: 0                                             lyrics  songType\n",
              "296        1477  রাত্রি অনেক হল চোখে নেই কোন ঘুম অপরুপ জোছনায় অ...        13\n",
              "4           271  আমার ইচ্ছে করে আকাশ বাড়ির ছাদ ভেঙে বৃষ্টি আসুক...         5\n",
              "688        3177  প্রভু, খেলেছি অনেক খেলা এবে তোমার ক্রোড় চাহি।...        17\n",
              "305         946  বেলা শেষে ক্লান্ত পাখি ফিরে যায় নীড়ে, হৃদয়ে বি...         1\n",
              "773        3852  আমি কান পেতে রই। ও আমার আপন হৃদয়গহন দ্বারে বা...        17\n",
              "..          ...                                                ...       ...\n",
              "629        2324  নিত্য তোমার যে ফুল ফোটে ফুলবনে তারি মধু কেন মন...        17\n",
              "51          306  আমাদের দেশটা স্বপ্নপুরী সাথী মোদের ফুলপরী ফুলপ...         1\n",
              "357        1797  তোমার পূজার ছলে তোমায় ভুলেই থাকি। বুঝতে নারি ক...        17\n",
              "15         3645  দুই ভুবনের দুই বাসিন্দা বন্ধু চিরকাল রেললাইন ব...         8\n",
              "77          160  আমায় দুষ্ট বলো তুমি আরও মিষ্টি করে, ওগো সোনার ...         3\n",
              "\n",
              "[4105 rows x 3 columns]"
            ]
          },
          "metadata": {
            "tags": []
          },
          "execution_count": 5
        }
      ]
    },
    {
      "cell_type": "code",
      "metadata": {
        "id": "U24Gf3dJfXrH"
      },
      "source": [
        "X_train, X_test, Y_train, Y_test = train_test_split(data['lyrics'], data['songType'], test_size=0.2, random_state=2)"
      ],
      "execution_count": 6,
      "outputs": []
    },
    {
      "cell_type": "markdown",
      "metadata": {
        "id": "VBNTai1efwwc"
      },
      "source": [
        "### Text Classification using KNN"
      ]
    },
    {
      "cell_type": "code",
      "metadata": {
        "colab": {
          "base_uri": "https://localhost:8080/"
        },
        "id": "eT05xrdAIiYL",
        "outputId": "d65f927d-3508-4536-b0ec-3fa2cc2350a6"
      },
      "source": [
        "text_clf = Pipeline([\n",
        "                     ('vect', CountVectorizer()),\n",
        "                     ('tfidf', TfidfTransformer()),\n",
        "                     ('clf', KNeighborsClassifier(n_neighbors=9))\n",
        "])\n",
        "\n",
        "classifier = text_clf.fit(list(X_train), list(Y_train))\n",
        "\n",
        "cv = ShuffleSplit(n_splits=7, test_size=0.2, random_state=2)\n",
        "score = cross_val_score(text_clf, list(X_train), list(Y_train), cv=cv)\n",
        "\n",
        "print(\"Cross Accuracy: %0.2f (+/- %0.2f)\" % (score.mean(), score.std() * 2))\n",
        "\n",
        "predicted = text_clf.predict(X_test)"
      ],
      "execution_count": 7,
      "outputs": [
        {
          "output_type": "stream",
          "text": [
            "Cross Accuracy: 0.34 (+/- 0.03)\n"
          ],
          "name": "stdout"
        }
      ]
    },
    {
      "cell_type": "code",
      "metadata": {
        "colab": {
          "base_uri": "https://localhost:8080/"
        },
        "id": "PY6MPNYbQBHZ",
        "outputId": "d3e570de-0632-41ba-95ec-f9289a722221"
      },
      "source": [
        "joblib.dump(classifier, '/content/knn_text_classifier.pickle')"
      ],
      "execution_count": 8,
      "outputs": [
        {
          "output_type": "execute_result",
          "data": {
            "text/plain": [
              "['/content/knn_text_classifier.pickle']"
            ]
          },
          "metadata": {
            "tags": []
          },
          "execution_count": 8
        }
      ]
    },
    {
      "cell_type": "code",
      "metadata": {
        "colab": {
          "base_uri": "https://localhost:8080/"
        },
        "id": "cdb_uMOtUxVM",
        "outputId": "f16df140-30e3-4381-b655-3715fabb4f68"
      },
      "source": [
        "print(\"Cross Accuracy: %0.2f (+/- %0.2f)\" % (score.mean(), score.std() * 2))\n",
        "print(metrics.classification_report(Y_test, predicted, zero_division=0))"
      ],
      "execution_count": 9,
      "outputs": [
        {
          "output_type": "stream",
          "text": [
            "Cross Accuracy: 0.34 (+/- 0.03)\n",
            "              precision    recall  f1-score   support\n",
            "\n",
            "           0       0.00      0.00      0.00         1\n",
            "           1       0.29      0.52      0.37       201\n",
            "           2       0.00      0.00      0.00         2\n",
            "           3       0.24      0.31      0.27       154\n",
            "           4       0.00      0.00      0.00         2\n",
            "           5       0.00      0.00      0.00        11\n",
            "           6       0.67      0.22      0.33        18\n",
            "           7       0.27      0.14      0.19        28\n",
            "           8       0.00      0.00      0.00         3\n",
            "           9       0.00      0.00      0.00         9\n",
            "          10       0.00      0.00      0.00         7\n",
            "          11       0.00      0.00      0.00        14\n",
            "          12       0.33      0.04      0.07        25\n",
            "          13       0.29      0.24      0.26       143\n",
            "          14       0.67      0.22      0.33         9\n",
            "          16       0.00      0.00      0.00         1\n",
            "          17       0.70      0.38      0.49       185\n",
            "          18       0.00      0.00      0.00         1\n",
            "          19       1.00      0.25      0.40         4\n",
            "          20       0.00      0.00      0.00         3\n",
            "\n",
            "    accuracy                           0.33       821\n",
            "   macro avg       0.22      0.12      0.14       821\n",
            "weighted avg       0.37      0.33      0.32       821\n",
            "\n"
          ],
          "name": "stdout"
        }
      ]
    },
    {
      "cell_type": "markdown",
      "metadata": {
        "id": "C-RuFLKwf668"
      },
      "source": [
        "### Text Classification using Naive Bayes"
      ]
    },
    {
      "cell_type": "code",
      "metadata": {
        "id": "t0iSPpPlRjcs",
        "colab": {
          "base_uri": "https://localhost:8080/"
        },
        "outputId": "ba15fb91-6726-40da-a150-5cdda73e6811"
      },
      "source": [
        "text_clf = Pipeline([\n",
        "                     ('vect', CountVectorizer()),\n",
        "                     ('tfidf', TfidfTransformer()),\n",
        "                     ('clf', MultinomialNB())\n",
        "])\n",
        "\n",
        "classifier = text_clf.fit(list(X_train), list(Y_train))\n",
        "\n",
        "cv = ShuffleSplit(n_splits=7, test_size=0.2, random_state=2)\n",
        "score = cross_val_score(text_clf, list(X_train), list(Y_train), cv=cv)\n",
        "\n",
        "print(\"Cross Accuracy: %0.2f (+/- %0.2f)\" % (score.mean(), score.std() * 2))\n",
        "\n",
        "predicted = text_clf.predict(X_test)"
      ],
      "execution_count": 10,
      "outputs": [
        {
          "output_type": "stream",
          "text": [
            "Cross Accuracy: 0.39 (+/- 0.05)\n"
          ],
          "name": "stdout"
        }
      ]
    },
    {
      "cell_type": "code",
      "metadata": {
        "colab": {
          "base_uri": "https://localhost:8080/"
        },
        "id": "OWTfnDhMjeb7",
        "outputId": "bfb5fb21-b1ed-4b65-d3aa-c18efa338a0e"
      },
      "source": [
        "joblib.dump(classifier, '/content/naive_bayes_text_classifier.pickle')"
      ],
      "execution_count": 11,
      "outputs": [
        {
          "output_type": "execute_result",
          "data": {
            "text/plain": [
              "['/content/naive_bayes_text_classifier.pickle']"
            ]
          },
          "metadata": {
            "tags": []
          },
          "execution_count": 11
        }
      ]
    },
    {
      "cell_type": "code",
      "metadata": {
        "colab": {
          "base_uri": "https://localhost:8080/"
        },
        "id": "FBObnV69j0t0",
        "outputId": "df9f594b-6eb1-410b-dfc2-cec79e84a8bc"
      },
      "source": [
        "print(\"Cross Accuracy: %0.2f (+/- %0.2f)\" % (score.mean(), score.std() * 2))\n",
        "print(metrics.classification_report(Y_test, predicted, zero_division=0))"
      ],
      "execution_count": 12,
      "outputs": [
        {
          "output_type": "stream",
          "text": [
            "Cross Accuracy: 0.39 (+/- 0.05)\n",
            "              precision    recall  f1-score   support\n",
            "\n",
            "           0       0.00      0.00      0.00         1\n",
            "           1       0.31      0.93      0.47       201\n",
            "           2       0.00      0.00      0.00         2\n",
            "           3       0.40      0.14      0.20       154\n",
            "           4       0.00      0.00      0.00         2\n",
            "           5       0.00      0.00      0.00        11\n",
            "           6       0.00      0.00      0.00        18\n",
            "           7       0.00      0.00      0.00        28\n",
            "           8       0.00      0.00      0.00         3\n",
            "           9       0.00      0.00      0.00         9\n",
            "          10       0.00      0.00      0.00         7\n",
            "          11       0.00      0.00      0.00        14\n",
            "          12       0.00      0.00      0.00        25\n",
            "          13       0.39      0.06      0.11       143\n",
            "          14       0.00      0.00      0.00         9\n",
            "          16       0.00      0.00      0.00         1\n",
            "          17       0.77      0.63      0.69       185\n",
            "          18       0.00      0.00      0.00         1\n",
            "          19       0.00      0.00      0.00         4\n",
            "          20       0.00      0.00      0.00         3\n",
            "\n",
            "    accuracy                           0.41       821\n",
            "   macro avg       0.09      0.09      0.07       821\n",
            "weighted avg       0.39      0.41      0.33       821\n",
            "\n"
          ],
          "name": "stdout"
        }
      ]
    },
    {
      "cell_type": "markdown",
      "metadata": {
        "id": "4SkqHs4JkC38"
      },
      "source": [
        "### Text Classification using Random Forest"
      ]
    },
    {
      "cell_type": "code",
      "metadata": {
        "colab": {
          "base_uri": "https://localhost:8080/"
        },
        "id": "7UfdmO4Pj3xC",
        "outputId": "dfad2c36-b216-4fd6-9c2c-9b323b4bb366"
      },
      "source": [
        "text_clf = Pipeline([\n",
        "                     ('vect', CountVectorizer()),\n",
        "                     ('tfidf', TfidfTransformer()),\n",
        "                     ('clf', RandomForestClassifier(n_estimators=50, max_depth=21, random_state=2))\n",
        "])\n",
        "\n",
        "classifier = text_clf.fit(list(X_train), list(Y_train))\n",
        "\n",
        "cv = ShuffleSplit(n_splits=7, test_size=0.2, random_state=2)\n",
        "score = cross_val_score(text_clf, list(X_train), list(Y_train), cv=cv)\n",
        "\n",
        "print(\"Cross Accuracy: %0.2f (+/- %0.2f)\" % (score.mean(), score.std() * 2))\n",
        "\n",
        "predicted = text_clf.predict(X_test)"
      ],
      "execution_count": 13,
      "outputs": [
        {
          "output_type": "stream",
          "text": [
            "Cross Accuracy: 0.41 (+/- 0.02)\n"
          ],
          "name": "stdout"
        }
      ]
    },
    {
      "cell_type": "code",
      "metadata": {
        "colab": {
          "base_uri": "https://localhost:8080/"
        },
        "id": "xXxex_stk2sg",
        "outputId": "5565bd44-8c7f-4ac1-d2a3-d9ed9f6d734b"
      },
      "source": [
        "joblib.dump(classifier, '/content/random_forest_text_classifier.pickle')"
      ],
      "execution_count": 14,
      "outputs": [
        {
          "output_type": "execute_result",
          "data": {
            "text/plain": [
              "['/content/random_forest_text_classifier.pickle']"
            ]
          },
          "metadata": {
            "tags": []
          },
          "execution_count": 14
        }
      ]
    },
    {
      "cell_type": "code",
      "metadata": {
        "colab": {
          "base_uri": "https://localhost:8080/"
        },
        "id": "npe6lvU8mcDh",
        "outputId": "9c0b68f5-4750-4b30-9813-e695cd59772c"
      },
      "source": [
        "print(\"Cross Accuracy: %0.2f (+/- %0.2f)\" % (score.mean(), score.std() * 2))\n",
        "print(metrics.classification_report(Y_test, predicted, zero_division=0))"
      ],
      "execution_count": 15,
      "outputs": [
        {
          "output_type": "stream",
          "text": [
            "Cross Accuracy: 0.41 (+/- 0.02)\n",
            "              precision    recall  f1-score   support\n",
            "\n",
            "           0       0.00      0.00      0.00         1\n",
            "           1       0.33      0.80      0.46       201\n",
            "           2       0.00      0.00      0.00         2\n",
            "           3       0.37      0.18      0.24       154\n",
            "           4       0.00      0.00      0.00         2\n",
            "           5       0.00      0.00      0.00        11\n",
            "           6       0.00      0.00      0.00        18\n",
            "           7       1.00      0.14      0.25        28\n",
            "           8       0.00      0.00      0.00         3\n",
            "           9       0.00      0.00      0.00         9\n",
            "          10       0.00      0.00      0.00         7\n",
            "          11       0.00      0.00      0.00        14\n",
            "          12       0.00      0.00      0.00        25\n",
            "          13       0.55      0.19      0.28       143\n",
            "          14       1.00      0.11      0.20         9\n",
            "          16       0.00      0.00      0.00         1\n",
            "          17       0.65      0.70      0.67       185\n",
            "          18       0.00      0.00      0.00         1\n",
            "          19       1.00      0.25      0.40         4\n",
            "          20       0.00      0.00      0.00         3\n",
            "\n",
            "    accuracy                           0.43       821\n",
            "   macro avg       0.24      0.12      0.13       821\n",
            "weighted avg       0.44      0.43      0.37       821\n",
            "\n"
          ],
          "name": "stdout"
        }
      ]
    },
    {
      "cell_type": "markdown",
      "metadata": {
        "id": "umqJf-kFnesV"
      },
      "source": [
        "### Text Classification using Decision Tree"
      ]
    },
    {
      "cell_type": "code",
      "metadata": {
        "colab": {
          "base_uri": "https://localhost:8080/"
        },
        "id": "6f1UNgH4nXSI",
        "outputId": "7d2ea399-ef40-4130-d60b-992ecc56e203"
      },
      "source": [
        "text_clf = Pipeline([\n",
        "                     ('vect', CountVectorizer()),\n",
        "                     ('tfidf', TfidfTransformer()),\n",
        "                     ('clf', DecisionTreeClassifier(criterion=\"entropy\", max_depth=7))\n",
        "])\n",
        "\n",
        "classifier = text_clf.fit(list(X_train), list(Y_train))\n",
        "\n",
        "cv = ShuffleSplit(n_splits=7, test_size=0.2, random_state=2)\n",
        "score = cross_val_score(text_clf, list(X_train), list(Y_train), cv=cv)\n",
        "\n",
        "print(\"Cross Accuracy: %0.2f (+/- %0.2f)\" % (score.mean(), score.std() * 2))\n",
        "\n",
        "predicted = text_clf.predict(X_test)"
      ],
      "execution_count": 16,
      "outputs": [
        {
          "output_type": "stream",
          "text": [
            "Cross Accuracy: 0.30 (+/- 0.04)\n"
          ],
          "name": "stdout"
        }
      ]
    },
    {
      "cell_type": "code",
      "metadata": {
        "colab": {
          "base_uri": "https://localhost:8080/"
        },
        "id": "em4OZC04pRms",
        "outputId": "f90f8adc-5b0a-4323-943b-5ebe2e739263"
      },
      "source": [
        "joblib.dump(classifier, '/content/decision_tree_text_classifier.pickle')"
      ],
      "execution_count": 17,
      "outputs": [
        {
          "output_type": "execute_result",
          "data": {
            "text/plain": [
              "['/content/decision_tree_text_classifier.pickle']"
            ]
          },
          "metadata": {
            "tags": []
          },
          "execution_count": 17
        }
      ]
    },
    {
      "cell_type": "code",
      "metadata": {
        "colab": {
          "base_uri": "https://localhost:8080/"
        },
        "id": "0bzALklppejA",
        "outputId": "3a845202-3aaa-42f0-a0cc-7c166b76b855"
      },
      "source": [
        "print(\"Cross Accuracy: %0.2f (+/- %0.2f)\" % (score.mean(), score.std() * 2))\n",
        "print(metrics.classification_report(Y_test, predicted, zero_division=0))"
      ],
      "execution_count": 18,
      "outputs": [
        {
          "output_type": "stream",
          "text": [
            "Cross Accuracy: 0.30 (+/- 0.04)\n",
            "              precision    recall  f1-score   support\n",
            "\n",
            "           0       0.00      0.00      0.00         1\n",
            "           1       0.29      0.51      0.37       201\n",
            "           2       0.00      0.00      0.00         2\n",
            "           3       0.18      0.06      0.09       154\n",
            "           4       0.00      0.00      0.00         2\n",
            "           5       0.00      0.00      0.00        11\n",
            "           6       0.00      0.00      0.00        18\n",
            "           7       0.13      0.07      0.09        28\n",
            "           8       0.00      0.00      0.00         3\n",
            "           9       0.00      0.00      0.00         9\n",
            "          10       0.00      0.00      0.00         7\n",
            "          11       0.00      0.00      0.00        14\n",
            "          12       0.00      0.00      0.00        25\n",
            "          13       0.46      0.21      0.29       143\n",
            "          14       1.00      0.11      0.20         9\n",
            "          16       0.00      0.00      0.00         1\n",
            "          17       0.37      0.60      0.46       185\n",
            "          18       0.00      0.00      0.00         1\n",
            "          19       0.08      0.25      0.12         4\n",
            "          20       0.00      0.00      0.00         3\n",
            "\n",
            "    accuracy                           0.31       821\n",
            "   macro avg       0.13      0.09      0.08       821\n",
            "weighted avg       0.28      0.31      0.27       821\n",
            "\n"
          ],
          "name": "stdout"
        }
      ]
    },
    {
      "cell_type": "markdown",
      "metadata": {
        "id": "taQ3ocLov5sr"
      },
      "source": [
        "### Text Classification using ANN"
      ]
    },
    {
      "cell_type": "code",
      "metadata": {
        "id": "1J5aNj2aqx-3",
        "colab": {
          "base_uri": "https://localhost:8080/"
        },
        "outputId": "961b288e-0440-4e0b-d28f-b8751e0aabf0"
      },
      "source": [
        "text_clf = Pipeline([\n",
        "                     ('vect', CountVectorizer()),\n",
        "                     ('tfidf', TfidfTransformer()),\n",
        "                     ('clf', MLPClassifier(solver='lbfgs'))\n",
        "])\n",
        "\n",
        "classifier = text_clf.fit(list(X_train), list(Y_train))\n",
        "\n",
        "cv = ShuffleSplit(n_splits=7, test_size=0.2, random_state=2)\n",
        "score = cross_val_score(text_clf, list(X_train), list(Y_train), cv=cv)\n",
        "\n",
        "print(\"Cross Accuracy: %0.2f (+/- %0.2f)\" % (score.mean(), score.std() * 2))\n",
        "\n",
        "predicted = text_clf.predict(X_test)"
      ],
      "execution_count": 22,
      "outputs": [
        {
          "output_type": "stream",
          "text": [
            "Cross Accuracy: 0.42 (+/- 0.03)\n"
          ],
          "name": "stdout"
        }
      ]
    },
    {
      "cell_type": "code",
      "metadata": {
        "id": "DGQYjt9Hv2vf",
        "colab": {
          "base_uri": "https://localhost:8080/"
        },
        "outputId": "98eab717-06ea-4ead-f810-51c373feedbd"
      },
      "source": [
        "joblib.dump(classifier, '/content/ann_text_classifier.pickle')"
      ],
      "execution_count": 23,
      "outputs": [
        {
          "output_type": "execute_result",
          "data": {
            "text/plain": [
              "['/content/ann_text_classifier.pickle']"
            ]
          },
          "metadata": {
            "tags": []
          },
          "execution_count": 23
        }
      ]
    },
    {
      "cell_type": "code",
      "metadata": {
        "id": "LxXL4rU9yazI",
        "colab": {
          "base_uri": "https://localhost:8080/"
        },
        "outputId": "b28e9267-3c9f-44cd-9136-5447a3b4d704"
      },
      "source": [
        "print(\"Cross Accuracy: %0.2f (+/- %0.2f)\" % (score.mean(), score.std() * 2))\n",
        "print(metrics.classification_report(Y_test, predicted, zero_division=0))"
      ],
      "execution_count": 24,
      "outputs": [
        {
          "output_type": "stream",
          "text": [
            "Cross Accuracy: 0.42 (+/- 0.03)\n",
            "              precision    recall  f1-score   support\n",
            "\n",
            "           0       0.00      0.00      0.00         1\n",
            "           1       0.37      0.38      0.37       201\n",
            "           2       0.00      0.00      0.00         2\n",
            "           3       0.38      0.42      0.40       154\n",
            "           4       0.50      0.50      0.50         2\n",
            "           5       0.25      0.18      0.21        11\n",
            "           6       0.42      0.28      0.33        18\n",
            "           7       0.26      0.39      0.31        28\n",
            "           8       0.00      0.00      0.00         3\n",
            "           9       0.00      0.00      0.00         9\n",
            "          10       0.00      0.00      0.00         7\n",
            "          11       0.13      0.14      0.14        14\n",
            "          12       0.06      0.04      0.05        25\n",
            "          13       0.37      0.35      0.36       143\n",
            "          14       0.18      0.22      0.20         9\n",
            "          16       0.00      0.00      0.00         1\n",
            "          17       0.70      0.65      0.67       185\n",
            "          18       0.00      0.00      0.00         1\n",
            "          19       0.40      0.50      0.44         4\n",
            "          20       0.00      0.00      0.00         3\n",
            "\n",
            "    accuracy                           0.41       821\n",
            "   macro avg       0.20      0.20      0.20       821\n",
            "weighted avg       0.41      0.41      0.41       821\n",
            "\n"
          ],
          "name": "stdout"
        }
      ]
    },
    {
      "cell_type": "markdown",
      "metadata": {
        "id": "lUX-OrKPLtZn"
      },
      "source": [
        "## 2. The explanation behind ”The model gives very low f1 score for some classes but not the same for others”is given below :"
      ]
    },
    {
      "cell_type": "markdown",
      "metadata": {
        "id": "s-bkEpGVL9ce"
      },
      "source": [
        "We know that the F1/F Score is a measure of how accurate a model\n",
        "is by using Precision and Recall following the formula of:\n",
        "\n",
        "F1 Score = 2 * ((Precision * Recall) / (Precision + Recall))\n",
        "\n",
        "Precision is commonly called positive predictive value. It is also inte-\n",
        "resting to note that the PPV can be derived using Bayes’ theorem as\n",
        "\n",
        "well.\n",
        "Precision = True Positives / (True Positives + False Positives)\n",
        "\n",
        "Recall is also known as the True Positive Rate and is defined as the\n",
        "following:\n",
        "Recall = True Positives / (True Positives + False Negatives)\n",
        "\n",
        "If the precision is very low and recall value gets very high then the\n",
        "F1 score will become very low.But it should become the average of\n",
        "precision and recall.The alternative situation aslo behave the same.\n",
        "So, In the end, We can say. Some model gives the high precision and\n",
        "high recall value ,which are made the F1 score high.But if one’s score\n",
        "gets very low then the F1 score also become very low."
      ]
    },
    {
      "cell_type": "markdown",
      "metadata": {
        "id": "ckjgQjilMFgW"
      },
      "source": [
        "# 3. The low f1 score issue is tried to fix in below :"
      ]
    },
    {
      "cell_type": "markdown",
      "metadata": {
        "id": "mWPkmzbAMK6c"
      },
      "source": [
        "If the F1-score is the figure of merit, I would try to tune the class\n",
        "weights. It should be pretty easy, if we have a binary classification\n",
        "problem. We can feed class weight a dictionary with the weights for\n",
        "each class.\n",
        "Here’s a little example.\n",
        "\n",
        "```\n",
        "clf = RandomForestClassifier()\n",
        "params = {’class weight’:[{0:neg weight, 1:1} for neg weight in np.arange(1.0,\n",
        "5.0, 0.5)]}\n",
        "gs = GridSearchCV(estimator=clf,param_grid=params, cv=5)\n",
        "gs.fit(X_train, Y_train)\n",
        "```\n",
        "\n"
      ]
    }
  ]
}